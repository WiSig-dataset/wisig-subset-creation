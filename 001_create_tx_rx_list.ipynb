{
 "cells": [
  {
   "cell_type": "code",
   "execution_count": 1,
   "metadata": {},
   "outputs": [],
   "source": [
    "from tqdm.notebook import trange, tqdm\n",
    "import matplotlib.pyplot as plt\n",
    "import numpy as np\n",
    "%load_ext autoreload\n",
    "%autoreload 2\n",
    "\n",
    "import timeit"
   ]
  },
  {
   "cell_type": "code",
   "execution_count": 2,
   "metadata": {},
   "outputs": [],
   "source": [
    "min_sig = 50\n",
    "num_tx = 125\n",
    "min_sig_low = 0\n",
    "\n",
    "satisfaction = 0.9"
   ]
  },
  {
   "cell_type": "code",
   "execution_count": 3,
   "metadata": {},
   "outputs": [
    {
     "name": "stdout",
     "output_type": "stream",
     "text": [
      "Time:  0.0009032650013978127\n",
      "20\n",
      "['1-10', '1-12', '1-14', '1-18', '1-8', '10-11', '10-17', '10-4', '10-7', '11-1', '11-10', '11-19', '11-4', '11-7', '12-19', '12-20', '12-7', '13-14', '13-19', '13-7', '14-10', '14-11', '14-12', '14-13', '14-14', '14-19', '14-20', '14-7', '14-8', '14-9', '15-1', '15-19', '15-6', '16-1', '16-16', '16-19', '16-20', '17-10', '17-11', '18-1', '18-10', '18-11', '18-12', '18-13', '18-14', '18-15', '18-16', '18-17', '18-19', '18-2', '18-20', '18-4', '18-5', '18-7', '18-8', '18-9', '19-1', '19-10', '19-11', '19-12', '19-13', '19-14', '19-15', '19-3', '19-4', '19-6', '19-7', '19-8', '19-9', '2-12', '2-13', '2-14', '2-15', '2-17', '2-19', '2-3', '2-4', '2-5', '2-6', '2-7', '2-8', '20-12', '20-14', '20-15', '20-16', '20-18', '20-19', '20-3', '20-4', '20-5', '20-7', '20-8', '3-1', '3-13', '3-19', '3-2', '3-20', '3-8', '4-11', '5-1', '5-16', '5-20', '5-5', '6-1', '6-15', '6-6', '7-10', '7-11', '7-12', '7-13', '7-14', '7-20', '7-7', '7-8', '7-9', '8-1', '8-13', '8-14', '8-18', '8-20', '8-3', '8-8', '9-1', '9-20', '9-7']\n",
      "['1-1', '1-19', '1-20', '13-7', '14-7', '18-2', '19-1', '19-19', '19-2', '2-1', '2-19', '20-1', '20-19', '20-20', '24-6', '3-19', '7-14', '7-7', '8-14', '8-8']\n"
     ]
    }
   ],
   "source": [
    "from tx_rx_list_creator_heuristic import solve_for_lists_heurstic\n",
    "\n",
    "start = timeit.default_timer()\n",
    "\n",
    "op_tx_list, op_rx_list = solve_for_lists_heurstic(num_tx=num_tx, min_sig=min_sig, min_sig_low = None, satisfaction=satisfaction)\n",
    "\n",
    "stop = timeit.default_timer()\n",
    "print('Time: ', stop - start)  \n",
    "    \n",
    "print(len(op_rx_list))\n",
    "print(op_tx_list)\n",
    "print(op_rx_list)"
   ]
  },
  {
   "cell_type": "code",
   "execution_count": 4,
   "metadata": {},
   "outputs": [
    {
     "name": "stdout",
     "output_type": "stream",
     "text": [
      "Academic license - for non-commercial use only - expires 2022-10-06\n",
      "Using license file /home/samer/gurobi.lic\n",
      "Found optimal solution with 29 Rx\n",
      "Time:  270.9107184780005\n",
      "29\n",
      "['1-1', '1-10', '1-14', '1-16', '1-8', '10-11', '10-17', '10-4', '11-1', '11-10', '11-17', '11-19', '11-20', '11-4', '11-7', '12-19', '12-20', '12-7', '13-14', '13-19', '13-7', '14-11', '14-12', '14-13', '14-14', '14-19', '14-20', '14-7', '14-8', '14-9', '15-1', '15-19', '15-6', '16-16', '16-19', '16-20', '16-5', '17-10', '17-11', '18-1', '18-10', '18-11', '18-12', '18-14', '18-15', '18-16', '18-17', '18-19', '18-2', '18-4', '18-5', '18-7', '18-8', '18-9', '19-10', '19-11', '19-12', '19-13', '19-14', '19-15', '19-20', '19-3', '19-4', '19-6', '19-7', '19-8', '19-9', '2-12', '2-13', '2-14', '2-15', '2-16', '2-17', '2-19', '2-20', '2-3', '2-4', '2-5', '2-6', '2-7', '2-8', '20-14', '20-15', '20-16', '20-18', '20-19', '20-3', '20-4', '20-7', '20-8', '3-1', '3-13', '3-19', '3-2', '3-20', '3-8', '4-1', '4-11', '5-1', '5-16', '5-20', '5-5', '6-1', '6-15', '6-6', '7-10', '7-11', '7-12', '7-13', '7-14', '7-20', '7-7', '7-8', '7-9', '8-1', '8-13', '8-14', '8-18', '8-20', '8-3', '8-8', '9-1', '9-14', '9-20', '9-7']\n",
      "['1-1', '1-19', '1-20', '13-7', '14-7', '18-2', '19-1', '19-19', '19-2', '19-20', '2-1', '2-19', '20-1', '20-19', '20-20', '23-1', '23-3', '23-5', '23-6', '23-7', '24-13', '24-5', '24-6', '3-19', '7-14', '7-7', '8-14', '8-7', '8-8']\n"
     ]
    }
   ],
   "source": [
    "from tx_rx_list_creator_milp import solve_for_lists_milp\n",
    "\n",
    "\n",
    "# Requires a GUROBI Licence\n",
    "# License can be obtained for free for academic users\n",
    "# https://www.gurobi.com/downloads/end-user-license-agreement-academic/\n",
    "start = timeit.default_timer()\n",
    "\n",
    "op_tx_list, op_rx_list = solve_for_lists_milp(num_tx=num_tx, min_sig=min_sig, min_sig_low = min_sig_low, satisfaction=satisfaction)\n",
    "\n",
    "stop = timeit.default_timer()\n",
    "print('Time: ', stop - start) \n",
    "    \n",
    "print(len(op_rx_list))\n",
    "print(op_tx_list)\n",
    "print(op_rx_list)"
   ]
  },
  {
   "cell_type": "code",
   "execution_count": null,
   "metadata": {},
   "outputs": [],
   "source": []
  }
 ],
 "metadata": {
  "kernelspec": {
   "display_name": "Python 3",
   "language": "python",
   "name": "python3"
  },
  "language_info": {
   "codemirror_mode": {
    "name": "ipython",
    "version": 3
   },
   "file_extension": ".py",
   "mimetype": "text/x-python",
   "name": "python",
   "nbconvert_exporter": "python",
   "pygments_lexer": "ipython3",
   "version": "3.6.9"
  }
 },
 "nbformat": 4,
 "nbformat_minor": 4
}
