{
 "cells": [
  {
   "cell_type": "code",
   "execution_count": 1,
   "metadata": {
    "scrolled": true
   },
   "outputs": [],
   "source": [
    "%load_ext autoreload\n",
    "\n",
    "%autoreload 2\n",
    "import matplotlib.pyplot as plt\n",
    "import numpy as np\n",
    "import pickle\n",
    "import os\n",
    "import scipy.optimize\n"
   ]
  },
  {
   "cell_type": "code",
   "execution_count": 2,
   "metadata": {},
   "outputs": [],
   "source": [
    "import os\n",
    "GPU = \"\"\n",
    "os.environ[\"CUDA_DEVICE_ORDER\"]=\"PCI_BUS_ID\"   \n",
    "os.environ[\"CUDA_VISIBLE_DEVICES\"]=GPU"
   ]
  },
  {
   "cell_type": "code",
   "execution_count": 3,
   "metadata": {},
   "outputs": [],
   "source": [
    "src='../orbit_rf_dataset/data/'\n",
    "dst='../orbit_rf_dataset/data/compact_datasets/'"
   ]
  },
  {
   "cell_type": "code",
   "execution_count": 4,
   "metadata": {},
   "outputs": [],
   "source": [
    "from data_utilities import create_dataset_impl"
   ]
  },
  {
   "cell_type": "code",
   "execution_count": 5,
   "metadata": {},
   "outputs": [],
   "source": [
    "full_dataset_path = '../../orbit_rf_dataset/data/'\n",
    "dst='../../orbit_rf_dataset/data/compact_pkl_datasets/'"
   ]
  },
  {
   "cell_type": "code",
   "execution_count": 6,
   "metadata": {},
   "outputs": [
    {
     "name": "stdout",
     "output_type": "stream",
     "text": [
      "6 12\n",
      "Dataset saved in ../../orbit_rf_dataset/data/compact_pkl_datasets/ManySig.pkl\n"
     ]
    }
   ],
   "source": [
    "tx_list = ['14-10', '14-7', '20-15', '20-19', '6-15', '8-20']\n",
    "rx_list = ['1-1', '1-19', '14-7', '18-2', '19-2', '2-1', '2-19', '20-1', '3-19', '7-14', '7-7', '8-8']\n",
    "capture_date_list = ['2021_03_01','2021_03_08','2021_03_15','2021_03_23']\n",
    "dataset_name = 'ManySig'\n",
    "max_n = 1000\n",
    "print(len(tx_list),len(rx_list))\n",
    "\n",
    "dataset = create_dataset_impl(tx_list,rx_list,capture_date_list,max_sig=max_n,equalized_list=[0,1],full_dataset_path=full_dataset_path,op_dataset_file=dst+dataset_name+'.pkl')\n"
   ]
  },
  {
   "cell_type": "code",
   "execution_count": 7,
   "metadata": {},
   "outputs": [
    {
     "name": "stdout",
     "output_type": "stream",
     "text": [
      "150 18\n",
      "Dataset saved in ../../orbit_rf_dataset/data/compact_pkl_datasets/ManyTx.pkl\n"
     ]
    }
   ],
   "source": [
    "tx_list = ['1-1', '1-10', '1-11', '1-12', '1-14', '1-15', '1-16', '1-18', '1-19', '1-2', '1-8', '10-1', '10-10', '10-11', '10-17', '10-4', '10-7', '11-1', '11-10', '11-17', '11-19', '11-20', '11-4', '11-7', '12-1', '12-19', '12-20', '12-7', '13-14', '13-18', '13-19', '13-20', '13-3', '13-7', '14-10', '14-11', '14-12', '14-13', '14-14', '14-20', '14-7', '14-8', '14-9', '15-1', '15-19', '15-6', '16-1', '16-16', '16-19', '16-20', '16-5', '17-10', '17-11', '18-1', '18-10', '18-11', '18-12', '18-13', '18-14', '18-15', '18-16', '18-17', '18-2', '18-20', '18-4', '18-5', '18-7', '18-8', '18-9', '19-1', '19-10', '19-11', '19-12', '19-13', '19-14', '19-19', '19-2', '19-20', '19-3', '19-4', '19-6', '19-7', '19-8', '19-9', '2-1', '2-12', '2-13', '2-14', '2-15', '2-16', '2-17', '2-19', '2-20', '2-3', '2-4', '2-5', '2-6', '2-7', '2-8', '20-1', '20-12', '20-14', '20-15', '20-16', '20-18', '20-19', '20-20', '20-3', '20-4', '20-5', '20-7', '20-8', '3-1', '3-13', '3-18', '3-19', '3-2', '3-20', '3-8', '4-1', '4-10', '4-11', '5-1', '5-16', '5-20', '5-5', '6-1', '6-15', '6-6', '7-10', '7-11', '7-12', '7-13', '7-14', '7-20', '7-7', '7-8', '7-9', '8-1', '8-13', '8-14', '8-18', '8-20', '8-3', '8-7', '8-8', '9-1', '9-14', '9-20', '9-7']\n",
    "rx_list = ['1-1', '1-19', '1-20', '13-7', '14-7', '18-19', '18-2', '19-1', '19-2', '2-1', '20-1', '20-19', '3-19', '7-14', '7-7', '8-14', '8-7', '8-8']\n",
    "capture_date_list = ['2021_03_01','2021_03_08','2021_03_15','2021_03_23']\n",
    "dataset_name = 'ManyTx'\n",
    "max_n = 50\n",
    "\n",
    "print(len(tx_list),len(rx_list))\n",
    "dataset = create_dataset_impl(tx_list,rx_list,capture_date_list,max_sig=max_n,equalized_list=[0,1],full_dataset_path=full_dataset_path,op_dataset_file=dst+dataset_name+'.pkl')\n"
   ]
  },
  {
   "cell_type": "code",
   "execution_count": 8,
   "metadata": {},
   "outputs": [
    {
     "name": "stdout",
     "output_type": "stream",
     "text": [
      "10 32\n",
      "Dataset saved in ../../orbit_rf_dataset/data/compact_pkl_datasets/ManyRx.pkl\n"
     ]
    }
   ],
   "source": [
    "tx_list = ['1-10', '11-1', '14-10', '14-7', '17-11', '20-15', '20-19', '7-11', '7-14', '8-20']\n",
    "rx_list = ['1-1', '1-19', '1-20', '13-14', '13-7', '14-7', '18-19', '18-2', '19-1', '19-19', '19-2', '19-20', '2-1', '2-19', '20-1', '20-19', '20-20', '23-1', '23-3', '23-5', '23-6', '23-7', '24-13', '24-16', '24-5', '24-6', '3-19', '7-14', '7-7', '8-14', '8-7', '8-8']\n",
    "capture_date_list = ['2021_03_01','2021_03_08','2021_03_15','2021_03_23']\n",
    "dataset_name = 'ManyRx'\n",
    "max_n = 200\n",
    "\n",
    "print(len(tx_list),len(rx_list))\n",
    "dataset = create_dataset_impl(tx_list,rx_list,capture_date_list,max_sig=max_n,equalized_list=[0,1],full_dataset_path=full_dataset_path,op_dataset_file=dst+dataset_name+'.pkl')\n"
   ]
  },
  {
   "cell_type": "code",
   "execution_count": 9,
   "metadata": {},
   "outputs": [
    {
     "name": "stdout",
     "output_type": "stream",
     "text": [
      "28 10\n",
      "Dataset saved in ../../orbit_rf_dataset/data/compact_pkl_datasets/SingleDay.pkl\n"
     ]
    }
   ],
   "source": [
    "tx_list = ['1-11', '10-11', '10-7', '11-1', '11-17', '11-4', '11-7', '13-3', '14-10', '14-7', '15-1', '16-16', '2-19', '20-12', '20-15', '20-19', '20-7', '3-13', '3-18', '4-11', '5-5', '6-1', '6-15', '7-10', '7-11', '8-18', '8-20', '8-3']\n",
    "rx_list = ['1-1', '13-13', '14-7', '2-1', '2-20', '20-1', '7-14', '7-7', '8-13', '8-8']\n",
    "capture_date_list = ['2021_03_23']\n",
    "dataset_name = 'SingleDay'\n",
    "max_n = 800\n",
    "\n",
    "print(len(tx_list),len(rx_list))\n",
    "\n",
    "dataset = create_dataset_impl(tx_list,rx_list,capture_date_list,max_sig=max_n,equalized_list=[0,1],full_dataset_path=full_dataset_path,op_dataset_file=dst+dataset_name+'.pkl')\n"
   ]
  },
  {
   "cell_type": "code",
   "execution_count": 7,
   "metadata": {},
   "outputs": [
    {
     "data": {
      "text/plain": [
       "{'ManySig': {'tx_list': ['14-10', '14-7', '20-15', '20-19', '6-15', '8-20'],\n",
       "  'rx_list': ['1-1',\n",
       "   '1-19',\n",
       "   '14-7',\n",
       "   '18-2',\n",
       "   '19-2',\n",
       "   '2-1',\n",
       "   '2-19',\n",
       "   '20-1',\n",
       "   '3-19',\n",
       "   '7-14',\n",
       "   '7-7',\n",
       "   '8-8'],\n",
       "  'capture_date_list': ['2021_03_01',\n",
       "   '2021_03_08',\n",
       "   '2021_03_15',\n",
       "   '2021_03_23'],\n",
       "  'dataset_name': 'ManySig',\n",
       "  'max_n': 1000},\n",
       " 'ManyTx': {'tx_list': ['1-10',\n",
       "   '1-12',\n",
       "   '1-14',\n",
       "   '1-18',\n",
       "   '1-8',\n",
       "   '10-11',\n",
       "   '10-17',\n",
       "   '10-4',\n",
       "   '10-7',\n",
       "   '11-1',\n",
       "   '11-10',\n",
       "   '11-19',\n",
       "   '11-4',\n",
       "   '11-7',\n",
       "   '12-19',\n",
       "   '12-20',\n",
       "   '12-7',\n",
       "   '13-14',\n",
       "   '13-19',\n",
       "   '13-7',\n",
       "   '14-10',\n",
       "   '14-11',\n",
       "   '14-12',\n",
       "   '14-13',\n",
       "   '14-14',\n",
       "   '14-19',\n",
       "   '14-20',\n",
       "   '14-7',\n",
       "   '14-8',\n",
       "   '14-9',\n",
       "   '15-1',\n",
       "   '15-19',\n",
       "   '15-6',\n",
       "   '16-1',\n",
       "   '16-16',\n",
       "   '16-19',\n",
       "   '16-20',\n",
       "   '17-10',\n",
       "   '17-11',\n",
       "   '18-1',\n",
       "   '18-10',\n",
       "   '18-11',\n",
       "   '18-12',\n",
       "   '18-13',\n",
       "   '18-14',\n",
       "   '18-15',\n",
       "   '18-16',\n",
       "   '18-17',\n",
       "   '18-19',\n",
       "   '18-2',\n",
       "   '18-20',\n",
       "   '18-4',\n",
       "   '18-5',\n",
       "   '18-7',\n",
       "   '18-8',\n",
       "   '18-9',\n",
       "   '19-1',\n",
       "   '19-10',\n",
       "   '19-11',\n",
       "   '19-12',\n",
       "   '19-13',\n",
       "   '19-14',\n",
       "   '19-15',\n",
       "   '19-3',\n",
       "   '19-4',\n",
       "   '19-6',\n",
       "   '19-7',\n",
       "   '19-8',\n",
       "   '19-9',\n",
       "   '2-12',\n",
       "   '2-13',\n",
       "   '2-14',\n",
       "   '2-15',\n",
       "   '2-17',\n",
       "   '2-19',\n",
       "   '2-3',\n",
       "   '2-4',\n",
       "   '2-5',\n",
       "   '2-6',\n",
       "   '2-7',\n",
       "   '2-8',\n",
       "   '20-12',\n",
       "   '20-14',\n",
       "   '20-15',\n",
       "   '20-16',\n",
       "   '20-18',\n",
       "   '20-19',\n",
       "   '20-3',\n",
       "   '20-4',\n",
       "   '20-5',\n",
       "   '20-7',\n",
       "   '20-8',\n",
       "   '3-1',\n",
       "   '3-13',\n",
       "   '3-19',\n",
       "   '3-2',\n",
       "   '3-20',\n",
       "   '3-8',\n",
       "   '4-11',\n",
       "   '5-1',\n",
       "   '5-16',\n",
       "   '5-20',\n",
       "   '5-5',\n",
       "   '6-1',\n",
       "   '6-15',\n",
       "   '6-6',\n",
       "   '7-10',\n",
       "   '7-11',\n",
       "   '7-12',\n",
       "   '7-13',\n",
       "   '7-14',\n",
       "   '7-20',\n",
       "   '7-7',\n",
       "   '7-8',\n",
       "   '7-9',\n",
       "   '8-1',\n",
       "   '8-13',\n",
       "   '8-14',\n",
       "   '8-18',\n",
       "   '8-20',\n",
       "   '8-3',\n",
       "   '8-8',\n",
       "   '9-1',\n",
       "   '9-20',\n",
       "   '9-7'],\n",
       "  'rx_list': ['1-1',\n",
       "   '1-19',\n",
       "   '1-20',\n",
       "   '13-7',\n",
       "   '14-7',\n",
       "   '18-2',\n",
       "   '19-1',\n",
       "   '19-19',\n",
       "   '19-2',\n",
       "   '2-1',\n",
       "   '2-19',\n",
       "   '20-1',\n",
       "   '20-19',\n",
       "   '20-20',\n",
       "   '24-6',\n",
       "   '3-19',\n",
       "   '7-14',\n",
       "   '7-7',\n",
       "   '8-14',\n",
       "   '8-8'],\n",
       "  'capture_date_list': ['2021_03_01',\n",
       "   '2021_03_08',\n",
       "   '2021_03_15',\n",
       "   '2021_03_23'],\n",
       "  'dataset_name': 'ManyTx',\n",
       "  'max_n': 50},\n",
       " 'ManyRx': {'tx_list': ['11-1',\n",
       "   '14-7',\n",
       "   '17-11',\n",
       "   '20-15',\n",
       "   '20-19',\n",
       "   '20-7',\n",
       "   '7-11',\n",
       "   '7-14',\n",
       "   '8-18',\n",
       "   '8-20'],\n",
       "  'rx_list': ['1-1',\n",
       "   '1-19',\n",
       "   '1-20',\n",
       "   '13-7',\n",
       "   '14-7',\n",
       "   '18-19',\n",
       "   '18-2',\n",
       "   '19-1',\n",
       "   '19-19',\n",
       "   '19-2',\n",
       "   '19-20',\n",
       "   '2-1',\n",
       "   '2-19',\n",
       "   '20-1',\n",
       "   '20-19',\n",
       "   '20-20',\n",
       "   '23-1',\n",
       "   '23-3',\n",
       "   '23-5',\n",
       "   '23-6',\n",
       "   '23-7',\n",
       "   '24-13',\n",
       "   '24-16',\n",
       "   '24-5',\n",
       "   '24-6',\n",
       "   '3-19',\n",
       "   '7-14',\n",
       "   '7-7',\n",
       "   '8-14',\n",
       "   '8-7',\n",
       "   '8-8'],\n",
       "  'capture_date_list': ['2021_03_01',\n",
       "   '2021_03_08',\n",
       "   '2021_03_15',\n",
       "   '2021_03_23'],\n",
       "  'dataset_name': 'ManyRx',\n",
       "  'max_n': 200}}"
      ]
     },
     "execution_count": 7,
     "metadata": {},
     "output_type": "execute_result"
    }
   ],
   "source": [
    "with open('datasets_info.pkl','rb') as f:\n",
    "    t=pickle.load(f)\n",
    "t"
   ]
  },
  {
   "cell_type": "code",
   "execution_count": null,
   "metadata": {},
   "outputs": [],
   "source": []
  }
 ],
 "metadata": {
  "kernelspec": {
   "display_name": "Python 3",
   "language": "python",
   "name": "python3"
  },
  "language_info": {
   "codemirror_mode": {
    "name": "ipython",
    "version": 3
   },
   "file_extension": ".py",
   "mimetype": "text/x-python",
   "name": "python",
   "nbconvert_exporter": "python",
   "pygments_lexer": "ipython3",
   "version": "3.6.9"
  }
 },
 "nbformat": 4,
 "nbformat_minor": 4
}
